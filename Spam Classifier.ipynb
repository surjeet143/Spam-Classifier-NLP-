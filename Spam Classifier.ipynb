{
 "cells": [
  {
   "cell_type": "markdown",
   "metadata": {},
   "source": [
    "# Spam Classifier"
   ]
  },
  {
   "cell_type": "code",
   "execution_count": 15,
   "metadata": {},
   "outputs": [],
   "source": [
    "# importing the required libraires\n",
    "import pandas as pd\n",
    "import re\n",
    "import nltk\n",
    "from nltk.corpus import stopwords\n",
    "from nltk.stem.porter import PorterStemmer\n",
    "from nltk.stem import WordNetLemmatizer\n",
    "from sklearn.feature_extraction.text import CountVectorizer\n",
    "from sklearn.feature_extraction.text import TfidfVectorizer\n",
    "from sklearn.model_selection import train_test_split\n",
    "from sklearn.naive_bayes import MultinomialNB\n",
    "from sklearn.linear_model import LogisticRegression\n",
    "from sklearn.tree import DecisionTreeClassifier\n",
    "from sklearn.metrics import confusion_matrix\n",
    "from sklearn.metrics import accuracy_score\n",
    "import matplotlib.pyplot as plt\n",
    "import seaborn as sns"
   ]
  },
  {
   "cell_type": "code",
   "execution_count": 16,
   "metadata": {},
   "outputs": [
    {
     "data": {
      "text/plain": [
       "(5572, 5)"
      ]
     },
     "execution_count": 16,
     "metadata": {},
     "output_type": "execute_result"
    }
   ],
   "source": [
    "# loading the data\n",
    "messages = pd.read_csv(\"spam.csv\", encoding='latin-1') #encoding='ISO-8859-1' can also be used\n",
    "messages.shape"
   ]
  },
  {
   "cell_type": "code",
   "execution_count": 17,
   "metadata": {},
   "outputs": [],
   "source": [
    "# removing unnecessary columns\n",
    "messages = messages[[\"v1\", \"v2\"]]\n",
    "# changing the column names\n",
    "cnames = [\"class\", \"sms\"]\n",
    "messages.columns = cnames"
   ]
  },
  {
   "cell_type": "code",
   "execution_count": 18,
   "metadata": {},
   "outputs": [
    {
     "name": "stdout",
     "output_type": "stream",
     "text": [
      "Input data has 5572 rows, 2 columns\n"
     ]
    }
   ],
   "source": [
    "print(f'Input data has {len(messages)} rows, {len(messages.columns)} columns')"
   ]
  },
  {
   "cell_type": "code",
   "execution_count": 19,
   "metadata": {},
   "outputs": [
    {
     "data": {
      "text/plain": [
       "Text(0.5, 1.0, 'number of hams and spams')"
      ]
     },
     "execution_count": 19,
     "metadata": {},
     "output_type": "execute_result"
    },
    {
     "data": {
      "image/png": "[encoded data removed]",
      "text/plain": [
       "<Figure size 432x288 with 1 Axes>"
      ]
     },
     "metadata": {
      "needs_background": "light"
     },
     "output_type": "display_data"
    }
   ],
   "source": [
    "sns.countplot(x = \"class\", data = messages)\n",
    "plt.xlabel(\"class\")\n",
    "plt.title(\"number of hams and spams\")"
   ]
  },
  {
   "cell_type": "markdown",
   "metadata": {},
   "source": [
    "## Data Cleaning"
   ]
  },
  {
   "cell_type": "markdown",
   "metadata": {},
   "source": [
    "First goal is to remove all the unnecessary words from the data such as **a**, **the**, **of**, etc because these words are present in large number and don't have any important information. We can use **PorterStemmer** or **Lemmatizer** for that. In this cleaning process we also remove the numbers and lowered all the letters."
   ]
  },
  {
   "cell_type": "code",
   "execution_count": 21,
   "metadata": {},
   "outputs": [],
   "source": [
    "#ps = PorterStemmer()\n",
    "wordnet = WordNetLemmatizer()\n",
    "corpus = []\n",
    "\n",
    "for i in range(len(messages)):\n",
    "    sms = re.sub('[^a-zA-Z]',' ', messages[\"sms\"][i])\n",
    "    sms = sms.lower()\n",
    "    sms = sms.split()\n",
    "    sms = [wordnet.lemmatize(word) for word in sms if not word in set(stopwords.words(\"english\"))]\n",
    "    sms = ' '.join(sms)\n",
    "    corpus.append(sms)"
   ]
  },
  {
   "cell_type": "markdown",
   "metadata": {},
   "source": [
    "Next step is to make the **vectors** from the text becuase our model cannot accept the string, it need some numbers. We can use **CountVectorizer** from **sklearn** or **Tf-Idf**."
   ]
  },
  {
   "cell_type": "code",
   "execution_count": 22,
   "metadata": {},
   "outputs": [],
   "source": [
    "cv = CountVectorizer(max_features=5000)\n",
    "#cv = TfidfVectorizer(max_features=5000)\n",
    "# creating a bag of words\n",
    "X = cv.fit_transform(corpus).toarray()"
   ]
  },
  {
   "cell_type": "code",
   "execution_count": 138,
   "metadata": {},
   "outputs": [
    {
     "data": {
      "text/plain": [
       "(5572, 5000)"
      ]
     },
     "execution_count": 138,
     "metadata": {},
     "output_type": "execute_result"
    }
   ],
   "source": [
    "X.shape"
   ]
  },
  {
   "cell_type": "markdown",
   "metadata": {},
   "source": [
    "Creating a target variable from the data and replace **ham** by **0** and **spam** by **1**."
   ]
  },
  {
   "cell_type": "code",
   "execution_count": 23,
   "metadata": {},
   "outputs": [],
   "source": [
    "# getting the target variable\n",
    "y = messages[\"class\"]\n",
    "y = y.replace(\"ham\", 0)\n",
    "y = y.replace(\"spam\", 1)"
   ]
  },
  {
   "cell_type": "markdown",
   "metadata": {},
   "source": [
    "## Models"
   ]
  },
  {
   "cell_type": "markdown",
   "metadata": {},
   "source": [
    "Creating train and test data and fitting the **naive bayes classifier** to classify the spam."
   ]
  },
  {
   "cell_type": "code",
   "execution_count": 188,
   "metadata": {},
   "outputs": [],
   "source": [
    "# splitting the train test data and training naive bayes\n",
    "X_train, X_test, y_train, y_test = train_test_split(X, y, test_size = 0.2, random_state = 0)\n",
    "classifier = MultinomialNB().fit(X_train, y_train)"
   ]
  },
  {
   "cell_type": "code",
   "execution_count": 189,
   "metadata": {},
   "outputs": [],
   "source": [
    "y_pred = classifier.predict(X_test)"
   ]
  },
  {
   "cell_type": "markdown",
   "metadata": {},
   "source": [
    "### Evaluation of Naive Bayes Classifier"
   ]
  },
  {
   "cell_type": "markdown",
   "metadata": {},
   "source": [
    "In the case of binary classification, **confusion matrix** is better way to evaluate the model."
   ]
  },
  {
   "cell_type": "code",
   "execution_count": 190,
   "metadata": {},
   "outputs": [
    {
     "name": "stdout",
     "output_type": "stream",
     "text": [
      "[[939  10]\n",
      " [  8 158]]\n"
     ]
    }
   ],
   "source": [
    "conf_m = confusion_matrix(y_test, y_pred)\n",
    "print(conf_m)"
   ]
  },
  {
   "cell_type": "code",
   "execution_count": 192,
   "metadata": {},
   "outputs": [
    {
     "data": {
      "text/plain": [
       "0.984"
      ]
     },
     "execution_count": 192,
     "metadata": {},
     "output_type": "execute_result"
    }
   ],
   "source": [
    "accuracy = round(accuracy_score(y_test, y_pred),3)\n",
    "accuracy"
   ]
  },
  {
   "cell_type": "markdown",
   "metadata": {},
   "source": [
    "**Accuracy** of Naive Bayes Classifier is about **98.4%**. "
   ]
  },
  {
   "cell_type": "markdown",
   "metadata": {},
   "source": [
    "## Random Forest Classifier"
   ]
  },
  {
   "cell_type": "code",
   "execution_count": 204,
   "metadata": {},
   "outputs": [
    {
     "data": {
      "text/plain": [
       "array([[948,   1],\n",
       "       [ 26, 140]], dtype=int64)"
      ]
     },
     "execution_count": 204,
     "metadata": {},
     "output_type": "execute_result"
    }
   ],
   "source": [
    "from sklearn.ensemble import RandomForestClassifier\n",
    "classifierRF = RandomForestClassifier(n_estimators=100,)\n",
    "classifierRF.fit(X_train, y_train)\n",
    "y_predRF = classifierRF.predict(X_test)\n",
    "confusion_matrix(y_test, y_predRF)"
   ]
  },
  {
   "cell_type": "code",
   "execution_count": 200,
   "metadata": {},
   "outputs": [],
   "source": [
    "#RandomForestClassifier?"
   ]
  },
  {
   "cell_type": "code",
   "execution_count": 205,
   "metadata": {},
   "outputs": [
    {
     "data": {
      "text/plain": [
       "0.976"
      ]
     },
     "execution_count": 205,
     "metadata": {},
     "output_type": "execute_result"
    }
   ],
   "source": [
    "round(accuracy_score(y_test, y_predRF),3)"
   ]
  },
  {
   "cell_type": "markdown",
   "metadata": {},
   "source": [
    "Accuracy of the **Random Forest Classifier** is **97.6%** which is slightly less than the accuracy of **Naive Bayes Classifier**. We can fine tune the random forest further but naive bayes is working good here. To achieve more accuracy we can use **Recurrent Neural Network**  or **LSTM**."
   ]
  },
  {
   "cell_type": "markdown",
   "metadata": {},
   "source": [
    "# LSTM Model"
   ]
  },
  {
   "cell_type": "code",
   "execution_count": 38,
   "metadata": {},
   "outputs": [],
   "source": [
    "# importing required libraries and layers\n",
    "from tensorflow.keras.layers import Embedding\n",
    "from tensorflow.keras.preprocessing.sequence import pad_sequences\n",
    "from tensorflow.keras.models import Sequential\n",
    "from tensorflow.keras.preprocessing.text import one_hot\n",
    "from tensorflow.keras.layers import LSTM\n",
    "from tensorflow.keras.layers import Dense\n",
    "from tensorflow.keras.layers import Dropout"
   ]
  },
  {
   "cell_type": "code",
   "execution_count": 34,
   "metadata": {},
   "outputs": [],
   "source": [
    "max_words = 5000\n",
    "one_hot_repr = [one_hot(words,max_words) for words in corpus]\n",
    "#one_hot_repr"
   ]
  },
  {
   "cell_type": "markdown",
   "metadata": {},
   "source": [
    "### Embedding"
   ]
  },
  {
   "cell_type": "markdown",
   "metadata": {},
   "source": [
    "Since the each sentence must have same number of words which is very difficult in real life. To overcome this problem, we use pre-padding for each sentence. It add zeros in each sentence to make all the sentences of the same legth. "
   ]
  },
  {
   "cell_type": "code",
   "execution_count": 51,
   "metadata": {},
   "outputs": [
    {
     "name": "stdout",
     "output_type": "stream",
     "text": [
      "[   0    0    0    0    0    0    0    0    0    0    0    0    0    0\n",
      " 3294 3213 4930  886 1728 2832]\n"
     ]
    }
   ],
   "source": [
    "sent_length = 20\n",
    "embedded_docs = pad_sequences(one_hot_repr, padding = \"pre\", maxlen = sent_length)\n",
    "print(embedded_docs[1])"
   ]
  },
  {
   "cell_type": "markdown",
   "metadata": {},
   "source": [
    "Above sentence have only 6 words but padding added 14 pre-zeros to make it 20."
   ]
  },
  {
   "cell_type": "markdown",
   "metadata": {},
   "source": [
    "### Creating a LSTM model"
   ]
  },
  {
   "cell_type": "code",
   "execution_count": 42,
   "metadata": {},
   "outputs": [
    {
     "name": "stdout",
     "output_type": "stream",
     "text": [
      "Model: \"sequential_4\"\n",
      "_________________________________________________________________\n",
      "Layer (type)                 Output Shape              Param #   \n",
      "=================================================================\n",
      "embedding_4 (Embedding)      (None, 20, 40)            200000    \n",
      "_________________________________________________________________\n",
      "dropout_1 (Dropout)          (None, 20, 40)            0         \n",
      "_________________________________________________________________\n",
      "lstm_3 (LSTM)                (None, 100)               56400     \n",
      "_________________________________________________________________\n",
      "dropout_2 (Dropout)          (None, 100)               0         \n",
      "_________________________________________________________________\n",
      "dense_3 (Dense)              (None, 1)                 101       \n",
      "=================================================================\n",
      "Total params: 256,501\n",
      "Trainable params: 256,501\n",
      "Non-trainable params: 0\n",
      "_________________________________________________________________\n",
      "None\n"
     ]
    }
   ],
   "source": [
    "embedding_vector_features = 40\n",
    "model = Sequential()\n",
    "model.add(Embedding(max_words, embedding_vector_features, input_length = sent_length))\n",
    "model.add(Dropout(0.2))\n",
    "model.add(LSTM(100))\n",
    "model.add(Dropout(0.2))\n",
    "model.add(Dense(1, activation = 'tanh'))\n",
    "model.compile(loss = \"binary_crossentropy\", optimizer = \"adam\", metrics = ['accuracy'])\n",
    "print(model.summary())"
   ]
  },
  {
   "cell_type": "code",
   "execution_count": 28,
   "metadata": {},
   "outputs": [],
   "source": [
    "# converting data to an array\n",
    "import numpy as np\n",
    "X_final = np.array(embedded_docs)\n",
    "y_final = np.array(y)"
   ]
  },
  {
   "cell_type": "code",
   "execution_count": 43,
   "metadata": {},
   "outputs": [],
   "source": [
    "X_train, X_test, y_train, y_test = train_test_split(X_final, y_final, test_size = 0.2, random_state = 0)"
   ]
  },
  {
   "cell_type": "code",
   "execution_count": 44,
   "metadata": {},
   "outputs": [
    {
     "name": "stdout",
     "output_type": "stream",
     "text": [
      "Train on 4457 samples, validate on 1115 samples\n",
      "Epoch 1/10\n",
      "4457/4457 [==============================] - 6s 1ms/sample - loss: 0.2931 - accuracy: 0.9085 - val_loss: 0.1213 - val_accuracy: 0.9570\n",
      "Epoch 2/10\n",
      "4457/4457 [==============================] - 3s 604us/sample - loss: 0.0634 - accuracy: 0.9850 - val_loss: 0.0707 - val_accuracy: 0.9803\n",
      "Epoch 3/10\n",
      "4457/4457 [==============================] - 3s 713us/sample - loss: 0.0390 - accuracy: 0.9928 - val_loss: 0.0977 - val_accuracy: 0.9803\n",
      "Epoch 4/10\n",
      "4457/4457 [==============================] - 3s 725us/sample - loss: 0.0328 - accuracy: 0.9948 - val_loss: 0.0969 - val_accuracy: 0.9803\n",
      "Epoch 5/10\n",
      "4457/4457 [==============================] - 3s 723us/sample - loss: 0.0335 - accuracy: 0.9944 - val_loss: 0.0936 - val_accuracy: 0.9839\n",
      "Epoch 6/10\n",
      "4457/4457 [==============================] - 3s 735us/sample - loss: 0.0231 - accuracy: 0.9971 - val_loss: 0.0938 - val_accuracy: 0.9821\n",
      "Epoch 7/10\n",
      "4457/4457 [==============================] - 4s 786us/sample - loss: 0.0192 - accuracy: 0.9975 - val_loss: 0.0988 - val_accuracy: 0.9848\n",
      "Epoch 8/10\n",
      "4457/4457 [==============================] - 3s 739us/sample - loss: 0.0171 - accuracy: 0.9978 - val_loss: 0.1052 - val_accuracy: 0.9865\n",
      "Epoch 9/10\n",
      "4457/4457 [==============================] - 3s 757us/sample - loss: 0.0165 - accuracy: 0.9982 - val_loss: 0.1473 - val_accuracy: 0.9812\n",
      "Epoch 10/10\n",
      "4457/4457 [==============================] - 4s 829us/sample - loss: 0.0177 - accuracy: 0.9973 - val_loss: 0.1301 - val_accuracy: 0.9848\n"
     ]
    },
    {
     "data": {
      "text/plain": [
       "<tensorflow.python.keras.callbacks.History at 0x1b1b0be9c88>"
      ]
     },
     "execution_count": 44,
     "metadata": {},
     "output_type": "execute_result"
    }
   ],
   "source": [
    "model.fit(X_train, y_train, validation_data = (X_test, y_test), epochs = 10, batch_size = 64)"
   ]
  },
  {
   "cell_type": "code",
   "execution_count": 47,
   "metadata": {},
   "outputs": [
    {
     "data": {
      "text/plain": [
       "array([[947,   2],\n",
       "       [ 15, 151]], dtype=int64)"
      ]
     },
     "execution_count": 47,
     "metadata": {},
     "output_type": "execute_result"
    }
   ],
   "source": [
    "y_predDL = model.predict_classes(X_test)\n",
    "confusion_matrix(y_test, y_predDL)"
   ]
  },
  {
   "cell_type": "code",
   "execution_count": 48,
   "metadata": {},
   "outputs": [
    {
     "data": {
      "text/plain": [
       "0.9847533632286996"
      ]
     },
     "execution_count": 48,
     "metadata": {},
     "output_type": "execute_result"
    }
   ],
   "source": [
    "accuracy_score(y_test, y_predDL)"
   ]
  },
  {
   "cell_type": "markdown",
   "metadata": {},
   "source": [
    "Accuracy of **LSTM** model is **98.5%** which is slightly higher than the **Naive Bayes Classifier** But there is no much improimprovement in the predictions."
   ]
  },
  {
   "cell_type": "code",
   "execution_count": null,
   "metadata": {},
   "outputs": [],
   "source": []
  }
 ],
 "metadata": {
  "kernelspec": {
   "display_name": "Python 3",
   "language": "python",
   "name": "python3"
  },
  "language_info": {
   "codemirror_mode": {
    "name": "ipython",
    "version": 3
   },
   "file_extension": ".py",
   "mimetype": "text/x-python",
   "name": "python",
   "nbconvert_exporter": "python",
   "pygments_lexer": "ipython3",
   "version": "3.7.7"
  }
 },
 "nbformat": 4,
 "nbformat_minor": 4
}
